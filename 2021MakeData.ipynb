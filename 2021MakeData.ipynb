{
 "cells": [
  {
   "cell_type": "code",
   "execution_count": null,
   "metadata": {},
   "outputs": [],
   "source": [
    "import csv\n",
    "import os\n",
    "import glob\n",
    "import numpy\n",
    "from PIL import ImageDraw \n",
    "from PIL import Image\n",
    "import matplotlib.pyplot as plt\n",
    "from PIL import ImageFont\n",
    "\n",
    "def loadResizeImage(img_path, label=None):\n",
    "    size = (124, 124)\n",
    "\n",
    "    # Load the image\n",
    "    img = Image.open(img_path)\n",
    "    # Keep the original image size\n",
    "    old_size = img.size\n",
    "\n",
    "    # Compute resizing ratio\n",
    "    ratio = float(size[0]) / max(old_size)\n",
    "    new_size = tuple([int(x * ratio) for x in old_size])\n",
    "\n",
    "    # Actually resize it\n",
    "    img = img.resize(new_size, Image.ANTIALIAS)\n",
    "\n",
    "    # Paste into centre of black padded image\n",
    "    new_img = Image.new(\"RGB\", (size[0], size[1]))\n",
    "    new_img.paste(img, ((size[0] - new_size[0]) // 2, (size[1] - new_size[1]) // 2))\n",
    "    if label != None:\n",
    "        draw = ImageDraw.Draw(new_img)\n",
    "        font = ImageFont.truetype(\"/System/Library/Fonts/Supplemental/Arial.ttf\", 12)\n",
    "        draw.text((62, 10),label,(255,255,255),font=font)\n",
    "\n",
    "    # Convert to numpy\n",
    "    new_img = numpy.array(new_img, dtype=numpy.uint8)\n",
    "\n",
    "    return new_img\n",
    "\n",
    "# Function to compose images in a grid\n",
    "compose = lambda images, horizontal: numpy.concatenate(\n",
    "    [img / 255 if horizontal == 1 else img for img in images],\n",
    "    axis=horizontal,\n",
    ")\n",
    "\n",
    "def listDirs(dir):\n",
    "    images = glob.glob(dir + '/*')\n",
    "    timestamps = [os.path.getctime(path) for path in images]\n",
    "    indeces = numpy.argsort(timestamps)\n",
    "    images = [images[idx] for idx in indeces]\n",
    "    return images, indeces\n"
   ]
  },
  {
   "cell_type": "code",
   "execution_count": null,
   "metadata": {},
   "outputs": [],
   "source": [
    "# !pip3 install xlsxwriter"
   ]
  },
  {
   "cell_type": "code",
   "execution_count": null,
   "metadata": {},
   "outputs": [],
   "source": [
    "import xlsxwriter\n",
    "import cv2\n",
    "from io import BytesIO\n",
    "# This sorts images based on timestamps. These are used to manually annotate the dataset.\n",
    "topDir = '/Users/as16542/Downloads/10m32xl88x2b61zlkkgz3fml17/identification/images/test/*'\n",
    "dirs = glob.glob(topDir)\n",
    "for dir in dirs:\n",
    "    img, indeces = listDirs(dir)\n",
    "    # Create an new Excel file and add a worksheet.\n",
    "    workbook = xlsxwriter.Workbook('./tracklets/{}.xlsx'.format(dir.split('/')[-1]))\n",
    "    worksheet = workbook.add_worksheet()\n",
    "    sheetFormat = workbook.add_format({'text_wrap': True})\n",
    "    # Widen the first column to make the text clearer.\n",
    "    worksheet.set_column('A:A', 30, sheetFormat)\n",
    "    worksheet.set_column('B:B', 17)\n",
    "    for i in range(len(img)):\n",
    "        # Insert an image.\n",
    "        worksheet.set_row(i, 92)\n",
    "        success, img_numpy = cv2.imencode('.jpg', loadResizeImage(img[i], label=str(i)))\n",
    "        worksheet.write('A{}'.format(i), img[i])\n",
    "        worksheet.insert_image('B{}'.format(i), img[i], {'image_data': BytesIO(img_numpy.tobytes())})\n",
    "    workbook.close()"
   ]
  },
  {
   "cell_type": "code",
   "execution_count": null,
   "metadata": {},
   "outputs": [],
   "source": [
    "# topDir = '/Users/as16542/Downloads/10m32xl88x2b61zlkkgz3fml17/identification/images/test/*'\n",
    "# dirs = glob.glob(topDir)\n",
    "# for dir in dirs:\n",
    "#     img, indeces = listDirs(dir)\n",
    "#     fig, ax = plt.subplots(1, figsize=((len(img) * 124)/500, 124/500), dpi=500)\n",
    "#     img = [loadResizeImage(img[i], label=str(i)) for i in range(len(img))]\n",
    "#     plt.imshow(compose(img, 1), aspect=1)\n",
    "#     [ax.spines[spine].set_visible(False) for spine in [\"top\", \"right\", \"bottom\", \"left\"]]\n",
    "#     ax.axes.get_xaxis().set_ticks([])\n",
    "#     ax.axes.get_yaxis().set_ticks([])\n",
    "#     ax.axis(\"tight\")\n",
    "#     # print(\"{} {}\".format(dir, len(img)))\n",
    "#     plt.savefig(\"./tracklets/{}.png\".format(dir.split('/')[-1]), dpi=500)\n",
    "#     plt.figure().clear()\n",
    "#     plt.close()\n",
    "#     plt.cla()\n",
    "#     plt.clf()\n",
    "#     # break"
   ]
  },
  {
   "cell_type": "code",
   "execution_count": null,
   "metadata": {},
   "outputs": [],
   "source": [
    "import glob\n",
    "import csv\n",
    "import numpy\n",
    "import json\n",
    "\n",
    "def listDirs(dir):\n",
    "    images = glob.glob(dir + '/*')\n",
    "    timestamps = [os.path.getctime(path) for path in images]\n",
    "    indeces = numpy.argsort(timestamps)\n",
    "    images = [images[idx] for idx in indeces]\n",
    "    return images, indeces\n",
    "\n",
    "topDir = './tracklets/train/csv/*'\n",
    "dirs = glob.glob(topDir)\n",
    "dataSet = {\"test\": [], \"train\": [], \"valid\": []}\n",
    "ignoreIndex = 20\n",
    "for dir in dirs:\n",
    "    # Parse the train data\n",
    "    with open(dir) as csv_file:\n",
    "        csv_reader = csv.reader(csv_file, delimiter=',')\n",
    "        data = []\n",
    "        trackletInd = []\n",
    "        for row in csv_reader:\n",
    "            row[0] = row[0].replace('/Users/as16542/Downloads/10m32xl88x2b61zlkkgz3fml17/', '')\n",
    "            category = int(row[0].split('/')[-2])\n",
    "            if category < ignoreIndex:\n",
    "                data.append([row[0], category, int(row[1])])\n",
    "                trackletInd.append(int(row[1]))\n",
    "        \n",
    "        # dataRow = [] * len(numpy.unique(trackletInd))\n",
    "        dataRow = []\n",
    "        for i in range(len(numpy.unique(trackletInd))):\n",
    "            dataRow += [{'paths':[], 'label': ''}]\n",
    "        for path, category, tracklet in data:\n",
    "            dataRow[tracklet]['label'] = category\n",
    "            dataRow[tracklet]['paths'].append(path)\n",
    "        # Why does this bugs out!?\n",
    "        # dataRow = [{'paths':[], 'label': ''}] * len(numpy.unique(trackletInd))\n",
    "        # for path, category, tracklet in data:\n",
    "        #     print(path, category, tracklet)\n",
    "        #     dataRow[tracklet]['label'] = category\n",
    "        #     dataRow[tracklet]['paths'].append(path)\n",
    "        # print(dataRow)\n",
    "        # print(dataRow, data, numpy.unique(trackletInd))\n",
    "        dataSet['train'] += dataRow\n",
    "\n",
    "topDIR = '/Users/as16542/Downloads/10m32xl88x2b61zlkkgz3fml17/identification/images/test/'\n",
    "with open('utils/openCows2020_test_tracklet.json') as f:\n",
    "    files = json.load(f)\n",
    "    for file in files:\n",
    "        if file['type'] == 'split':\n",
    "            directories, indeces = listDirs(topDIR + file['cowID'])\n",
    "            for split in file['splits']:\n",
    "                if int(file['cowID']) < ignoreIndex:\n",
    "                    sortedIdx = [directories[idx].replace('/Users/as16542/Downloads/10m32xl88x2b61zlkkgz3fml17/', '') for idx in split]\n",
    "                    dataSet['test'].append({\"label\": int(file['cowID']), \"paths\": sortedIdx})\n",
    "        else:\n",
    "            if int(file['cowID']) < ignoreIndex:\n",
    "                directories, indeces = listDirs(topDIR + file['cowID'])\n",
    "                directories = [director.replace('/Users/as16542/Downloads/10m32xl88x2b61zlkkgz3fml17/', '') for director in directories]\n",
    "                dataSet['test'].append({\"label\": int(file['cowID']), \"paths\": directories})"
   ]
  },
  {
   "cell_type": "code",
   "execution_count": null,
   "metadata": {},
   "outputs": [],
   "source": [
    "import json\n",
    "# Save\n",
    "with open('./utils/opencowsTracklets2020V2.json', 'w') as fp:\n",
    "    json.dump(dataSet, fp)"
   ]
  },
  {
   "cell_type": "code",
   "execution_count": null,
   "metadata": {},
   "outputs": [],
   "source": [
    "dt = [len(track['paths']) for track in dataSet['train']]\n",
    "plt.plot(dt)"
   ]
  },
  {
   "cell_type": "code",
   "execution_count": null,
   "metadata": {},
   "outputs": [],
   "source": [
    "import json\n",
    "topDIR = '/Users/as16542/Downloads/10m32xl88x2b61zlkkgz3fml17/identification/images/train/'\n",
    "dataSet = {\"test\": [], \"train\": [], \"valid\": []}\n",
    "with open('utils/openCows2020_train_tracklet.json') as f:\n",
    "    files = json.load(f)\n",
    "    for file in files:\n",
    "        if file['type'] == 'split':\n",
    "            directories, indeces = listDirs(topDIR + file['cowID'])\n",
    "            for split in file['splits']:\n",
    "                sortedIdx = [directories[idx].replace('/Users/as16542/Downloads/10m32xl88x2b61zlkkgz3fml17/', '') for idx in split]\n",
    "                dataSet['train'].append({\"label\": int(file['cowID']), \"paths\": sortedIdx})\n",
    "        else:\n",
    "            directories, indeces = listDirs(topDIR + file['cowID'])\n",
    "            directories = [director.replace('/Users/as16542/Downloads/10m32xl88x2b61zlkkgz3fml17/', '') for director in directories]\n",
    "            dataSet['train'].append({\"label\": int(file['cowID']), \"paths\": directories})\n",
    "\n",
    "topDIR = '/Users/as16542/Downloads/10m32xl88x2b61zlkkgz3fml17/identification/images/test/'\n",
    "with open('utils/openCows2020_test_tracklet.json') as f:\n",
    "    files = json.load(f)\n",
    "    for file in files:\n",
    "        if file['type'] == 'split':\n",
    "            directories, indeces = listDirs(topDIR + file['cowID'])\n",
    "            for split in file['splits']:\n",
    "                sortedIdx = [directories[idx].replace('/Users/as16542/Downloads/10m32xl88x2b61zlkkgz3fml17/', '') for idx in split]\n",
    "                dataSet['test'].append({\"label\": int(file['cowID']), \"paths\": sortedIdx})\n",
    "        else:\n",
    "            directories, indeces = listDirs(topDIR + file['cowID'])\n",
    "            directories = [director.replace('/Users/as16542/Downloads/10m32xl88x2b61zlkkgz3fml17/', '') for director in directories]\n",
    "            dataSet['test'].append({\"label\": int(file['cowID']), \"paths\": directories})\n"
   ]
  },
  {
   "cell_type": "code",
   "execution_count": null,
   "metadata": {},
   "outputs": [],
   "source": [
    "dt = [len(track['paths']) for track in dataSet['test']]\n",
    "plt.plot(dt)"
   ]
  },
  {
   "cell_type": "code",
   "execution_count": null,
   "metadata": {},
   "outputs": [],
   "source": [
    "import csv\n",
    "import os\n",
    "import glob\n",
    "import numpy\n",
    "\n",
    "def listDirs(dir):\n",
    "    images = glob.glob(dir + '/*')\n",
    "    timestamps = [os.path.getctime(path) for path in images]\n",
    "    indeces = numpy.argsort(timestamps)\n",
    "    images = [images[idx] for idx in indeces]\n",
    "    return images\n",
    "\n",
    "topDir = '/Users/as16542/Downloads/4vnrca7qw1642qlwxjadp87h7/Sub-levels/Identification/Train/RGBDCows2020/Identification/RGB'\n",
    "dataSet = {\"test\": [], \"train\": [], \"valid\": []}\n",
    "\n",
    "# Parse the train data\n",
    "with open('utils/correct.csv') as csv_file:\n",
    "    csv_reader = csv.reader(csv_file, delimiter=',')\n",
    "    line_count = 0\n",
    "    for row in csv_reader:\n",
    "        if line_count > 0 and line_count < 465 and row[6] != 'black':\n",
    "            label = row[4] if row[4] != '' else row[2]\n",
    "            if label != '':\n",
    "                dirs = [dir.replace('/Users/as16542/Downloads/4vnrca7qw1642qlwxjadp87h7/', '') for dir in listDirs(os.path.join(topDir, row[1]))]\n",
    "                dataSet['train'].append({'label': int(label), 'paths': dirs})\n",
    "        line_count += 1\n",
    "\n",
    "# Parse the test data\n",
    "labels = list(set([item['label'] for item in dataSet[\"train\"]]))\n",
    "topDir = '/Users/as16542/Downloads/4vnrca7qw1642qlwxjadp87h7/Sub-levels/Identification/Test/'\n",
    "for label in labels:\n",
    "    path = os.path.join(topDir, '{:>03}'.format(label))\n",
    "    dirs = [dir.replace('/Users/as16542/Downloads/4vnrca7qw1642qlwxjadp87h7/', '') for dir in listDirs(path)]\n",
    "    dataSet[\"test\"].append({'label': int(label), 'paths': dirs})\n",
    "\n",
    "# Since we omitted black cows we need to hot encode the labels again\n",
    "labels = list(set([item['label'] for item in dataSet[\"train\"]] + [item['label'] for item in dataSet[\"test\"]]))\n",
    "hotEncodeMap = {}\n",
    "for i in range(len(labels)):\n",
    "    hotEncodeMap[labels[i]] = i\n",
    "\n",
    "# Now we can use the map the relabel the dataset\n",
    "for split in dataSet.keys():\n",
    "    for i in range(len(dataSet[split])):\n",
    "        dataSet[split][i]['label'] = hotEncodeMap[dataSet[split][i]['label']]"
   ]
  },
  {
   "cell_type": "code",
   "execution_count": null,
   "metadata": {},
   "outputs": [],
   "source": [
    "labels = list(set([item['label'] for item in dataSet[\"train\"]] + [item['label'] for item in dataSet[\"test\"]]))\n",
    "labels"
   ]
  },
  {
   "cell_type": "code",
   "execution_count": null,
   "metadata": {},
   "outputs": [],
   "source": [
    "from PIL import Image\n",
    "import matplotlib.pyplot as plt\n",
    "\n",
    "def loadResizeImage(img_path):\n",
    "    size = (244, 244)\n",
    "    # Load the image\n",
    "    img = Image.open(img_path)\n",
    "\n",
    "    # Keep the original image size\n",
    "    old_size = img.size\n",
    "\n",
    "    # Compute resizing ratio\n",
    "    ratio = float(size[0]) / max(old_size)\n",
    "    new_size = tuple([int(x * ratio) for x in old_size])\n",
    "\n",
    "    # Actually resize it\n",
    "    img = img.resize(new_size, Image.ANTIALIAS)\n",
    "\n",
    "    # Paste into centre of black padded image\n",
    "    new_img = Image.new(\"RGB\", (size[0], size[1]))\n",
    "    new_img.paste(img, ((size[0] - new_size[0]) // 2, (size[1] - new_size[1]) // 2))\n",
    "\n",
    "    # Convert to numpy\n",
    "    new_img = numpy.array(new_img, dtype=numpy.uint8)\n",
    "\n",
    "    return new_img\n",
    "\n",
    "# Function to compose images in a grid\n",
    "compose = lambda images, horizontal: numpy.concatenate(\n",
    "    [img / 255 if horizontal == 1 else img for img in images],\n",
    "    axis=horizontal,\n",
    ")\n",
    "\n",
    "topDir = \"/Users/as16542/Downloads/10m32xl88x2b61zlkkgz3fml17\"\n",
    "for i in range(38, 39):\n",
    "    # Sample image from the dataset\n",
    "    trainSet = None\n",
    "    testSet = None\n",
    "    negSet = None\n",
    "    for j in range(len(dataSet[\"train\"])):\n",
    "        if dataSet[\"train\"][j][\"label\"] - 1 == i:\n",
    "            trainSet = dataSet[\"train\"][j][\"paths\"]\n",
    "            break\n",
    "    for j in range(len(dataSet[\"test\"])):\n",
    "        if dataSet[\"test\"][j][\"label\"] - 1 == i:\n",
    "            testSet = dataSet[\"test\"][j][\"paths\"]\n",
    "            break\n",
    "    for j in range(len(dataSet[\"test\"])):\n",
    "        if dataSet[\"test\"][j][\"label\"] - 1 == i+1:\n",
    "            negSet = dataSet[\"test\"][j][\"paths\"]\n",
    "            break\n",
    "    # Take first 5 images\n",
    "    trainSet, testSet, negSet = [os.path.join(topDir, path) for path in trainSet[:5]], [\n",
    "        os.path.join(topDir, path) for path in testSet[:5]\n",
    "    ], [os.path.join(topDir, path) for path in negSet[:5]]\n",
    "\n",
    "    trainSet, testSet = [loadResizeImage(path) for path in trainSet], [loadResizeImage(path) for path in testSet]\n",
    "    negSet = [loadResizeImage(path) for path in negSet]\n",
    "    print(len(trainSet), len(testSet), len(negSet))\n",
    "    composite = compose([compose(trainSet, 1), compose(testSet, 1), compose(negSet, 1)], 0)\n",
    "    plt.imshow(composite)\n",
    "    plt.show()\n",
    "    print(i)\n",
    "    break"
   ]
  },
  {
   "cell_type": "code",
   "execution_count": null,
   "metadata": {},
   "outputs": [],
   "source": [
    "plt.rcParams[\"figure.figsize\"] = (10, 10)\n",
    "fig, ax = plt.subplots(1, dpi=100)\n",
    "found = []\n",
    "for item in dataSet['train']:\n",
    "    if item['label'] == 1:\n",
    "        found.append(item)\n",
    "\n",
    "# Take first 5 images\n",
    "trainSet, testSet = [os.path.join(topDir, path) for path in found[0]['paths'][:5]], [\n",
    "    os.path.join(topDir, path) for path in found[1]['paths'][:5]\n",
    "]\n",
    "\n",
    "trainSet, testSet = [loadResizeImage(path) for path in trainSet], [loadResizeImage(path) for path in testSet]\n",
    "composite = compose([compose(trainSet, 1), compose(testSet, 1)], 0)\n",
    "plt.imshow(composite)\n",
    "plt.show()\n"
   ]
  },
  {
   "cell_type": "code",
   "execution_count": null,
   "metadata": {},
   "outputs": [],
   "source": [
    "import json\n",
    "# Save\n",
    "with open('./utils/opencowsTracklets2020V2.json', 'w') as fp:\n",
    "    json.dump(dataSet, fp)"
   ]
  },
  {
   "cell_type": "code",
   "execution_count": null,
   "metadata": {},
   "outputs": [],
   "source": [
    "dt = [len(track['paths']) for track in dataSet['train']]\n",
    "plt.plot(dt)\n",
    "sum(dt) / len(dt)"
   ]
  },
  {
   "cell_type": "code",
   "execution_count": null,
   "metadata": {},
   "outputs": [],
   "source": [
    "import torch\n",
    "import torch.nn as nn\n",
    "import torch.utils.model_zoo as model_zoo\n",
    "import torchvision.models as models\n",
    "import hiddenlayer as hl\n",
    "from tqdm import tqdm\n",
    "from torch import optim\n",
    "import numpy\n",
    "from torch.utils.data import DataLoader\n",
    "from sklearn.manifold import TSNE\n",
    "from sklearn.neighbors import KNeighborsClassifier\n",
    "from sklearn.mixture import GaussianMixture\n",
    "from utils.OpenSetCows2021 import OpenSetCows2021TrackLet\n",
    "\n",
    "dataset = OpenSetCows2021TrackLet(\n",
    "    \"/Users/as16542/Downloads/10m32xl88x2b61zlkkgz3fml17\",\n",
    "    \"utils/opencowsTracklets2020V2.json\",\n",
    "    maxSequenceLength=None,\n",
    "    transform=False,\n",
    "    split=\"train\",\n",
    "    trackletChoiceProb = 1,\n",
    ")\n",
    "\n",
    "dataset2 = OpenSetCows2021TrackLet(\n",
    "    \"/Users/as16542/Downloads/10m32xl88x2b61zlkkgz3fml17\",\n",
    "    \"utils/opencowsTracklets2020V2.json\",\n",
    "    maxSequenceLength=None,\n",
    "    transform=False,\n",
    "    split=\"test\",\n",
    "    trackletChoiceProb = 1,\n",
    ")\n",
    "\n",
    "import matplotlib.pyplot as plt\n",
    "plt.rcParams[\"figure.figsize\"] = (15, 5)\n",
    "fig = plt.figure()\n",
    "ax = fig.add_axes([0,0,1,1])\n",
    "\n",
    "distribution = numpy.asarray([[k, len(dataset.lookup[k])] for k in dataset.lookup.keys()])\n",
    "distribution2 = numpy.asarray([[k, len(dataset2.lookup[k])] for k in dataset2.lookup.keys()])\n",
    "langs = [str(i) for i in distribution[:,0]]\n",
    "students = distribution[:,1]\n",
    "ax.bar(langs,students)\n",
    "ax.bar(langs,distribution2[:,1])\n",
    "plt.show()\n",
    "\n",
    "dataset3 = OpenSetCows2021TrackLet(\n",
    "    \"/Users/as16542/Downloads/10m32xl88x2b61zlkkgz3fml17\",\n",
    "    \"utils/opencowsTracklets2020V2Combined.json\",\n",
    "    maxSequenceLength=None,\n",
    "    # transform=False,\n",
    "    split=\"train\",\n",
    "    trackletChoiceProb = 1,\n",
    ")\n",
    "\n",
    "fig = plt.figure()\n",
    "ax = fig.add_axes([0,0,1,1])\n",
    "distribution = numpy.asarray([[k, len(dataset3.lookup[k])] for k in dataset3.lookup.keys()])\n",
    "langs = [str(i) for i in distribution[:,0]]\n",
    "students = distribution[:,1]\n",
    "ax.bar(langs,students)\n",
    "plt.show()"
   ]
  },
  {
   "cell_type": "code",
   "execution_count": null,
   "metadata": {},
   "outputs": [],
   "source": [
    "sequenceLengths = [[dataset3.__getitem__(ind)[0].shape[0] for ind in dataset3.lookup[k]] for k in dataset3.lookup.keys()]\n",
    "sequenceLengths"
   ]
  },
  {
   "cell_type": "code",
   "execution_count": null,
   "metadata": {},
   "outputs": [],
   "source": [
    "import json, glob\n",
    "import matplotlib.pyplot as plt\n",
    "topDIR = '/Users/as16542/Downloads/3owflku95bxsx24643cybxu3qh/*/*/*.jpg'\n",
    "dataSet = {\"test\": [], \"train\": [], \"valid\": []}\n",
    "images = glob.glob(topDIR)\n",
    "images.sort()\n",
    "currentCategory, currentTracklet = 0, 0\n",
    "currentList, trackletImage = [], []\n",
    "element = {}\n",
    "categories = []\n",
    "for directory in images:\n",
    "    elements = directory.split('/')\n",
    "    category, tracklet, image = int(elements[-3]), int(elements[-2]), elements[-1]\n",
    "    if currentCategory != category or currentTracklet != tracklet:\n",
    "        dataSet['train'].append({'paths': trackletImage, 'label': currentCategory})\n",
    "        trackletImage = []\n",
    "        categories.append(category)\n",
    "        currentCategory = category\n",
    "        currentTracklet = tracklet\n",
    "    # if category > 1:\n",
    "    #     break\n",
    "    trackletImage.append(directory.replace('/Users/as16542/Downloads/3owflku95bxsx24643cybxu3qh/', ''))\n",
    "\n",
    "def list_splitter(list_to_split, ratio):\n",
    "    first_half = int(len(list_to_split) * ratio)\n",
    "    return list_to_split[:first_half], list_to_split[first_half:]\n",
    "\n",
    "def chunks(lst, n):\n",
    "    \"\"\"Yield successive n-sized chunks from lst.\"\"\"\n",
    "    for i in range(0, len(lst), n):\n",
    "        yield lst[i:i + n]\n",
    "\n",
    "dataSetFin = {\"test\": [], \"train\": [], \"valid\": []}\n",
    "for category in list(set(categories)):\n",
    "    tracklets = []\n",
    "    for tracklet in dataSet['train']:\n",
    "        if tracklet['label'] == category:\n",
    "            subsequences = list(chunks(tracklet['paths'], 10))\n",
    "            # subsequences = [subsequence for subsequence in subsequences if len(subsequence) >= 5]\n",
    "            subsequences = [\n",
    "                {'paths': subsequence, 'label': category}\n",
    "                for subsequence in subsequences\n",
    "            ]\n",
    "            tracklets+=subsequences\n",
    "    train, test = list_splitter(tracklets, 0.9)\n",
    "    dataSetFin['train'] += train\n",
    "    dataSetFin['test'] += test\n",
    "\n",
    "import json\n",
    "# Save\n",
    "with open('./utils/opencowsTracklets2017.json', 'w') as fp:\n",
    "    json.dump(dataSetFin, fp)"
   ]
  },
  {
   "cell_type": "code",
   "execution_count": 50,
   "metadata": {},
   "outputs": [
    {
     "name": "stdout",
     "output_type": "stream",
     "text": [
      "ClassFrequency\n"
     ]
    },
    {
     "data": {
      "image/png": "[encoded data removed]",
      "text/plain": [
       "<Figure size 432x288 with 1 Axes>"
      ]
     },
     "metadata": {
      "needs_background": "light"
     },
     "output_type": "display_data"
    },
    {
     "name": "stdout",
     "output_type": "stream",
     "text": [
      "SKlearn\n"
     ]
    },
    {
     "data": {
      "image/png": "[encoded data removed]",
      "text/plain": [
       "<Figure size 432x288 with 1 Axes>"
      ]
     },
     "metadata": {
      "needs_background": "light"
     },
     "output_type": "display_data"
    },
    {
     "name": "stdout",
     "output_type": "stream",
     "text": [
      "Effective Number of Samples\n"
     ]
    },
    {
     "data": {
      "image/png": "[encoded data removed]",
      "text/plain": [
       "<Figure size 432x288 with 1 Axes>"
      ]
     },
     "metadata": {
      "needs_background": "light"
     },
     "output_type": "display_data"
    },
    {
     "name": "stdout",
     "output_type": "stream",
     "text": [
      "Inverse Number of Samples\n"
     ]
    },
    {
     "data": {
      "image/png": "[encoded data removed]",
      "text/plain": [
       "<Figure size 432x288 with 1 Axes>"
      ]
     },
     "metadata": {
      "needs_background": "light"
     },
     "output_type": "display_data"
    },
    {
     "name": "stdout",
     "output_type": "stream",
     "text": [
      "Inverse Squareroot of Number of Samples\n"
     ]
    },
    {
     "data": {
      "image/png": "[encoded data removed]",
      "text/plain": [
       "<Figure size 432x288 with 1 Axes>"
      ]
     },
     "metadata": {
      "needs_background": "light"
     },
     "output_type": "display_data"
    }
   ],
   "source": [
    "import json\n",
    "from utils.OpenSetCows2021 import OpenSetCows2021TrackLet\n",
    "import numpy\n",
    "from torch.utils.data import DataLoader\n",
    "from sklearn.utils.class_weight import compute_class_weight\n",
    "import matplotlib.pyplot as plt\n",
    "from utils.classWeights import ClassWeights\n",
    "import math\n",
    "\n",
    "\n",
    "batchSize = 25\n",
    "trainingDataset = OpenSetCows2021TrackLet(\n",
    "    \"/Users/as16542/Downloads/3owflku95bxsx24643cybxu3qh\",\n",
    "    'utils/opencowsTracklets2017.json',\n",
    "    maxSequenceLength=5,\n",
    "    split='train',\n",
    "    trackletChoiceProb = 0.4,\n",
    "    eval=False,\n",
    "    batchSize=batchSize\n",
    ")\n",
    "\n",
    "trainingDataLoader = DataLoader(\n",
    "    trainingDataset, batch_size=batchSize, num_workers=2, shuffle=True\n",
    ")\n",
    "\n",
    "# fig = plt.figure()\n",
    "# ax = fig.add_axes([0,0,1,1])\n",
    "# distribution = numpy.asarray([[k, len(trainingDataset.lookup[k])] for k in trainingDataset.lookup.keys()])\n",
    "# langs = [str(i) for i in distribution[:,0]]\n",
    "# students = distribution[:,1] \n",
    "# ax.bar(langs,students)\n",
    "# plt.show()\n",
    "\n",
    "with open('utils/opencowsTracklets2017.json') as f:\n",
    "    dataSet = json.load(f)\n",
    "\n",
    "classFrequency = []\n",
    "for track in dataSet['train']:\n",
    "    classFrequency.append(track['label'])\n",
    "\n",
    "for track in dataSet['test']:\n",
    "    classFrequency.append(track['label'])\n",
    "\n",
    "print('ClassFrequency')\n",
    "fig = plt.figure()\n",
    "ax = fig.add_axes([0,0,1,1])\n",
    "langs = list(range(trainingDataset.numClasses))\n",
    "langs = [str(l) for l in langs]\n",
    "ax.bar(langs, trainingDataset.classFrequency)\n",
    "plt.show()\n",
    "\n",
    "print('SKlearn')\n",
    "fig = plt.figure()\n",
    "ax = fig.add_axes([0,0,1,1])\n",
    "weights = compute_class_weight(class_weight = 'balanced', classes = numpy.unique(classFrequency), y = classFrequency)\n",
    "\n",
    "# weights /= (numpy.sum(weights) * len(langs))\n",
    "ax.bar(langs, weights)\n",
    "plt.show()\n",
    "\n",
    "print('Effective Number of Samples')\n",
    "fig = plt.figure()\n",
    "ax = fig.add_axes([0,0,1,1])\n",
    "weights = ClassWeights(trainingDataset.classFrequency, trainingDataset.numClasses, 'ENS', beta=0.9, normalise=True)() * 100\n",
    "ax.bar(langs, weights)\n",
    "plt.show()\n",
    "\n",
    "print('Inverse Number of Samples')\n",
    "fig = plt.figure()\n",
    "ax = fig.add_axes([0,0,1,1])\n",
    "weights = ClassWeights(trainingDataset.classFrequency, trainingDataset.numClasses, 'INS')()\n",
    "ax.bar(langs, weights)\n",
    "plt.show()\n",
    "\n",
    "print('Inverse Squareroot of Number of Samples')\n",
    "fig = plt.figure()\n",
    "ax = fig.add_axes([0,0,1,1])\n",
    "weights = ClassWeights(trainingDataset.classFrequency, trainingDataset.numClasses, 'ISNS')()\n",
    "ax.bar(langs, weights)\n",
    "plt.show()"
   ]
  },
  {
   "cell_type": "code",
   "execution_count": null,
   "metadata": {},
   "outputs": [],
   "source": [
    "import matplotlib.pyplot as plt\n",
    "plt.plot([i%23 for i in range(92)])\n",
    "\n",
    "betaForENS = numpy.linspace(0.999, 0.92, 50)\n",
    "\n",
    "for i in range(len(betaForENS)):\n",
    "    fig = plt.figure()\n",
    "    ax = fig.add_axes([0,0,1,1])\n",
    "    ax.set_title(r\"$\\beta=${}, iteration: {}\".format(betaForENS[i], i))\n",
    "    weights = ClassWeights(trainingDataset.classFrequency, trainingDataset.numClasses, 'ENS', beta=betaForENS[i], normalise=False)() * 100\n",
    "    ax.bar(langs, weights)\n",
    "    plt.show()"
   ]
  },
  {
   "cell_type": "code",
   "execution_count": 16,
   "metadata": {},
   "outputs": [
    {
     "data": {
      "text/plain": [
       "tensor([137.,  19.,  69., 318., 482., 119., 365., 235., 139., 514., 168.,  32.,\n",
       "         31.,  58.,  64., 499., 394., 120.,  45., 215., 380., 184.,  90.],\n",
       "       dtype=torch.float64)"
      ]
     },
     "execution_count": 16,
     "metadata": {},
     "output_type": "execute_result"
    }
   ],
   "source": [
    "\n",
    "torch.as_tensor(trainingDataset.classFrequency, dtype=torch.double)"
   ]
  },
  {
   "cell_type": "code",
   "execution_count": 59,
   "metadata": {},
   "outputs": [
    {
     "data": {
      "image/png": "[encoded data removed]",
      "text/plain": [
       "<Figure size 432x288 with 1 Axes>"
      ]
     },
     "metadata": {
      "needs_background": "light"
     },
     "output_type": "display_data"
    },
    {
     "data": {
      "image/png": "[encoded data removed]",
      "text/plain": [
       "<Figure size 432x288 with 1 Axes>"
      ]
     },
     "metadata": {
      "needs_background": "light"
     },
     "output_type": "display_data"
    }
   ],
   "source": [
    "from pytorch_metric_learning.samplers import MPerClassSampler\n",
    "import matplotlib.pyplot as plt\n",
    "from utils.OpenSetCows2021 import OpenSetCows2021TrackLet\n",
    "from torch.utils.data.sampler import Sampler\n",
    "from pytorch_metric_learning.utils import common_functions as c_f\n",
    "import random\n",
    "from torch.utils.data import DataLoader\n",
    "import numpy\n",
    "import torch\n",
    "from utils.classWeights import ClassWeights\n",
    "\n",
    "class MPerClassTripletSampler(Sampler):\n",
    "  def __init__(self, labels, m, batch_size=None, weights=None, length_before_new_iter=100000):\n",
    "    self.posSampler = MPerClassSampler(labels, m=m, length_before_new_iter=length_before_new_iter, batch_size=batch_size)\n",
    "    self.weights = None\n",
    "    if isinstance(weights, numpy.ndarray):\n",
    "        self.weights = torch.as_tensor(weights, dtype=torch.double)\n",
    "\n",
    "  def __len__(self):\n",
    "    return self.posSampler.list_size\n",
    "\n",
    "  def __iter__(self):\n",
    "      idx_listPos = [0] * self.posSampler.list_size\n",
    "      idx_listNeg = [0] * self.posSampler.list_size\n",
    "      i = 0\n",
    "      num_iters = self.posSampler.calculate_num_iters()\n",
    "      for _ in range(num_iters):\n",
    "          c_f.NUMPY_RANDOM.shuffle(self.posSampler.labels)\n",
    "          if self.posSampler.batch_size is None:\n",
    "              curr_label_set = self.posSampler.labels\n",
    "          else:\n",
    "              curr_label_set = self.posSampler.labels[: self.posSampler.batch_size // self.posSampler.m_per_class]\n",
    "          \n",
    "          if self.weights != None:\n",
    "            weightedIndeces = torch.multinomial(self.weights[curr_label_set], len(curr_label_set), False)\n",
    "            curr_label_set = [curr_label_set[index] for index in list(weightedIndeces.numpy())]\n",
    "\n",
    "          for label in curr_label_set:\n",
    "              t = self.posSampler.labels_to_indices[label]\n",
    "              tex = [random.choice(list(set(curr_label_set) - set(t)))]\n",
    "              assert(t != tex)\n",
    "              idx_listPos[i : i + self.posSampler.m_per_class] = c_f.safe_random_choice(\n",
    "                  t, size=self.posSampler.m_per_class\n",
    "              )\n",
    "              \n",
    "              idx_listNeg[i : i + self.posSampler.m_per_class] = c_f.safe_random_choice(\n",
    "                  tex, size=self.posSampler.m_per_class\n",
    "              )\n",
    "              i += self.posSampler.m_per_class\n",
    "      return iter(zip(idx_listPos, idx_listNeg))\n",
    "\n",
    "trainingDataset = OpenSetCows2021TrackLet(\n",
    "    \"/Users/as16542/Downloads/3owflku95bxsx24643cybxu3qh\",\n",
    "    \"./utils/opencowsTracklets2017.json\",\n",
    "    maxSequenceLength=5,\n",
    "    transform=None,    \n",
    "    trackletChoiceProb = 0.5,\n",
    "    eval=False,\n",
    "    batchSize=100\n",
    ")\n",
    "# Class weighted sampling\n",
    "\n",
    "sampler = MPerClassTripletSampler(\n",
    "    list(range(23)), m=10, length_before_new_iter=len(trainingDataset),\n",
    "    batch_size=100, weights=ClassWeights(trainingDataset.classFrequency, trainingDataset.numClasses, 'ENS', beta=0.99, normalise=False)()\n",
    ")\n",
    "\n",
    "trainingDataLoader = DataLoader(\n",
    "    trainingDataset, batch_size=100, num_workers=1, shuffle=False, pin_memory=True, sampler=sampler\n",
    ")\n",
    "\n",
    "# next(iter(trainingDataLoader))\n",
    "\n",
    "distribuionPos = numpy.zeros(23)\n",
    "distribuionNeg = numpy.zeros(23)\n",
    "for i in range(50):\n",
    "  pos, neg = zip(*iter(sampler))\n",
    "  for classIdx in pos:\n",
    "    distribuionPos[classIdx] += 1\n",
    "  for classIdx in neg:\n",
    "      distribuionNeg[classIdx] += 1    \n",
    "distribuionPos /= 50\n",
    "distribuionNeg /= 50\n",
    "fig = plt.figure()\n",
    "ax = fig.add_axes([0,0,1,1])\n",
    "ax.bar(list(range(23)), distribuionPos)\n",
    "plt.show()\n",
    "\n",
    "fig = plt.figure()\n",
    "ax = fig.add_axes([0,0,1,1])\n",
    "ax.bar(list(range(23)), distribuionNeg)\n",
    "plt.show()"
   ]
  },
  {
   "cell_type": "code",
   "execution_count": 4,
   "metadata": {},
   "outputs": [
    {
     "name": "stdout",
     "output_type": "stream",
     "text": [
      "Positive Sampling\n"
     ]
    },
    {
     "data": {
      "image/png": "[encoded data removed]",
      "text/plain": [
       "<Figure size 432x288 with 1 Axes>"
      ]
     },
     "metadata": {
      "needs_background": "light"
     },
     "output_type": "display_data"
    },
    {
     "name": "stdout",
     "output_type": "stream",
     "text": [
      "Negative Sampling\n"
     ]
    },
    {
     "data": {
      "image/png": "[encoded data removed]",
      "text/plain": [
       "<Figure size 432x288 with 1 Axes>"
      ]
     },
     "metadata": {
      "needs_background": "light"
     },
     "output_type": "display_data"
    }
   ],
   "source": [
    "from pytorch_metric_learning.samplers import MPerClassSampler\n",
    "import matplotlib.pyplot as plt\n",
    "from utils.OpenSetCows2021 import OpenSetCows2021TrackLet\n",
    "from torch.utils.data import DataLoader\n",
    "import numpy\n",
    "from random import choices\n",
    "\n",
    "trainingDataset = OpenSetCows2021TrackLet(\n",
    "    \"/Users/as16542/Downloads/3owflku95bxsx24643cybxu3qh\",\n",
    "    \"./utils/opencowsTracklets2017.json\",\n",
    "    maxSequenceLength=5,\n",
    "    transform=None,    \n",
    "    trackletChoiceProb = 0.5,\n",
    "    eval=False,\n",
    "    batchSize=100\n",
    ")\n",
    "\n",
    "sampler = MPerClassTripletSampler(\n",
    "    list(range(23)), m=5, length_before_new_iter=len(trainingDataset),\n",
    "    batch_size=100\n",
    ")\n",
    "\n",
    "\n",
    "trainingDataLoader = DataLoader(\n",
    "    trainingDataset, batch_size=100, num_workers=1, shuffle=False, pin_memory=True, sampler=sampler\n",
    ")\n",
    "\n",
    "distribuionPositive = numpy.zeros(23)\n",
    "distribuionNegative = numpy.zeros(23)\n",
    "for i in range(100):\n",
    "    _, _, _,  positiveLabel, negativeLabel = next(iter(trainingDataLoader))\n",
    "    for classIdx in positiveLabel:\n",
    "        distribuionPositive[classIdx] += 1\n",
    "\n",
    "    for classIdx in negativeLabel:\n",
    "        distribuionNegative[classIdx] += 1  \n",
    "\n",
    "distribuionNegative /= 100\n",
    "distribuionPositive /= 100"
   ]
  },
  {
   "cell_type": "code",
   "execution_count": 53,
   "metadata": {},
   "outputs": [
    {
     "name": "stdout",
     "output_type": "stream",
     "text": [
      "Positive Sampling\n"
     ]
    },
    {
     "data": {
      "image/png": "[encoded data removed]",
      "text/plain": [
       "<Figure size 1080x360 with 1 Axes>"
      ]
     },
     "metadata": {
      "needs_background": "light"
     },
     "output_type": "display_data"
    }
   ],
   "source": [
    "plt.rcParams[\"figure.figsize\"] = (15, 5)\n",
    "# plot data in grouped manner of bar type\n",
    "print('Positive Sampling')\n",
    "width = 0.40\n",
    "x = numpy.array(range(23))\n",
    "ax = plt.axes()\n",
    "\n",
    "plt.bar(x-0.2, distribuionPositive, width, color='cyan')\n",
    "plt.bar(x+0.2, distribuionNegative, width, color='green')\n",
    "\n",
    "ax.set_xticks(x)\n",
    "ax.set_xticklabels(['$C_{{{}}}$'.format(i) for i in range(23)])\n",
    "\n",
    "plt.xlabel(\"Individual\")\n",
    "plt.ylabel(\"Number of Samples\")\n",
    "plt.legend([\"Positive\", \"Negative\"])\n",
    "plt.show()"
   ]
  },
  {
   "cell_type": "code",
   "execution_count": 32,
   "metadata": {},
   "outputs": [],
   "source": [
    "\n",
    "\n",
    "positiveLabel\n",
    "weights = compute_class_weight(class_weight = 'balanced', classes = numpy.unique(classFrequency), y = classFrequency)\n",
    "population = list(range(23))\n",
    "\n",
    "negSamples = []\n",
    "for label in positiveLabel:\n",
    "    w, p = list(weights), \n",
    "    w.pop(label)\n",
    "    p.pop(label)\n",
    "    negSamples.append(choices(p, w)[0])\n"
   ]
  },
  {
   "cell_type": "code",
   "execution_count": 38,
   "metadata": {},
   "outputs": [
    {
     "data": {
      "text/plain": [
       "1"
      ]
     },
     "execution_count": 38,
     "metadata": {},
     "output_type": "execute_result"
    }
   ],
   "source": [
    "list(range(23)).pop(1)"
   ]
  }
 ],
 "metadata": {
  "interpreter": {
   "hash": "a35bd2a748ff812196078b530039d66aaa336851f47ca82b0a06ab1bf96aa2d4"
  },
  "kernelspec": {
   "display_name": "Python 3.8.12 64-bit ('metricLearning': conda)",
   "language": "python",
   "name": "python3"
  },
  "language_info": {
   "codemirror_mode": {
    "name": "ipython",
    "version": 3
   },
   "file_extension": ".py",
   "mimetype": "text/x-python",
   "name": "python",
   "nbconvert_exporter": "python",
   "pygments_lexer": "ipython3",
   "version": "3.8.13"
  },
  "orig_nbformat": 4
 },
 "nbformat": 4,
 "nbformat_minor": 2
}
